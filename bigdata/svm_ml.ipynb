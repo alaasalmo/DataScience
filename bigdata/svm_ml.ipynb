{
 "cells": [
  {
   "cell_type": "markdown",
   "metadata": {},
   "source": [
    "# SVM IN BIG DATA"
   ]
  },
  {
   "cell_type": "markdown",
   "metadata": {},
   "source": [
    "which can be used for classification, regression, or other tasks. Intuitively, a good separation is achieved by the hyperplane that has the largest distance to the nearest training-data points of any class (so-called functional margin), since in general the larger the margin the lower the generalization error of the classifier. LinearSVC in Spark ML supports binary classification with linear SVM."
   ]
  },
  {
   "cell_type": "markdown",
   "metadata": {},
   "source": [
    "1-get Data"
   ]
  },
  {
   "cell_type": "code",
   "execution_count": 9,
   "metadata": {},
   "outputs": [],
   "source": [
    "import findspark\n",
    "import pyspark\n",
    "findspark.init()"
   ]
  },
  {
   "cell_type": "code",
   "execution_count": 10,
   "metadata": {},
   "outputs": [],
   "source": [
    "from pyspark.sql import SparkSession\n",
    "from pyspark import SparkContext, SparkConf\n",
    "\n",
    "spark = SparkSession.builder.appName('svm').getOrCreate()\n",
    "sc = spark.sparkContext"
   ]
  },
  {
   "cell_type": "code",
   "execution_count": 13,
   "metadata": {},
   "outputs": [
    {
     "name": "stdout",
     "output_type": "stream",
     "text": [
      "+--------+--------+--------+--------+-----+\n",
      "|Variance|Skewness|Curtosis| Entropy|Class|\n",
      "+--------+--------+--------+--------+-----+\n",
      "|  3.6216|  8.6661| -2.8073|-0.44699|    0|\n",
      "|  4.5459|  8.1674| -2.4586| -1.4621|    0|\n",
      "|   3.866| -2.6383|  1.9242| 0.10645|    0|\n",
      "|  3.4566|  9.5228| -4.0112| -3.5944|    0|\n",
      "| 0.32924| -4.4552|  4.5718| -0.9888|    0|\n",
      "+--------+--------+--------+--------+-----+\n",
      "only showing top 5 rows\n",
      "\n"
     ]
    }
   ],
   "source": [
    "df= spark.read.format(\"csv\").option(\"header\", \"true\").load(\"data/bill_authentication.csv\") \n",
    "df.show(5)"
   ]
  },
  {
   "cell_type": "code",
   "execution_count": 21,
   "metadata": {},
   "outputs": [
    {
     "name": "stdout",
     "output_type": "stream",
     "text": [
      "root\n",
      " |-- Variance: string (nullable = true)\n",
      " |-- Skewness: string (nullable = true)\n",
      " |-- Curtosis: string (nullable = true)\n",
      " |-- Entropy: string (nullable = true)\n",
      " |-- Class: string (nullable = true)\n",
      "\n"
     ]
    }
   ],
   "source": [
    "df.printSchema()"
   ]
  },
  {
   "cell_type": "code",
   "execution_count": 30,
   "metadata": {},
   "outputs": [
    {
     "name": "stdout",
     "output_type": "stream",
     "text": [
      "root\n",
      " |-- Variance: float (nullable = true)\n",
      " |-- Skewness: float (nullable = true)\n",
      " |-- Curtosis: float (nullable = true)\n",
      " |-- Entropy: float (nullable = true)\n",
      " |-- Class: double (nullable = true)\n",
      "\n",
      "None\n",
      "+--------+--------+--------+--------+-----+\n",
      "|Variance|Skewness|Curtosis| Entropy|Class|\n",
      "+--------+--------+--------+--------+-----+\n",
      "|  3.6216|  8.6661| -2.8073|-0.44699|  0.0|\n",
      "|  4.5459|  8.1674| -2.4586| -1.4621|  0.0|\n",
      "|   3.866| -2.6383|  1.9242| 0.10645|  0.0|\n",
      "|  3.4566|  9.5228| -4.0112| -3.5944|  0.0|\n",
      "| 0.32924| -4.4552|  4.5718| -0.9888|  0.0|\n",
      "+--------+--------+--------+--------+-----+\n",
      "only showing top 5 rows\n",
      "\n"
     ]
    }
   ],
   "source": [
    "from pyspark.ml.linalg import Vectors\n",
    "from pyspark.ml.feature import VectorAssembler\n",
    "from pyspark.sql.types import FloatType,DoubleType\n",
    "\n",
    "assembler = VectorAssembler(\n",
    "    inputCols=[\"Variance\", \"Skewness\", \"Curtosis\", \"Entropy\"],\n",
    "    outputCol=\"features\")\n",
    "\n",
    "newdf=df.select(df[\"Variance\"].cast(FloatType()),df[\"Skewness\"].cast(FloatType()), df[\"Curtosis\"].cast(FloatType()),df[\"Entropy\"].cast(FloatType()),df['Class'].cast(DoubleType()))\n",
    "\n",
    "print(newdf.printSchema())\n",
    "newdf.show(5)\n",
    "#outputdf = assembler.transform(newdf)\n",
    "#newdf.show()\n",
    "#outputdf = assembler.transform(newdf)\n",
    "#outputdf2=outputdf.withColumnRenamed('Class','label').select('features','label')\n",
    "#outputdf2.show(5)"
   ]
  },
  {
   "cell_type": "code",
   "execution_count": 32,
   "metadata": {},
   "outputs": [
    {
     "name": "stdout",
     "output_type": "stream",
     "text": [
      "+--------+--------+--------+--------+-----+\n",
      "|Variance|Skewness|Curtosis| Entropy|Class|\n",
      "+--------+--------+--------+--------+-----+\n",
      "|  3.6216|  8.6661| -2.8073|-0.44699|  0.0|\n",
      "|  4.5459|  8.1674| -2.4586| -1.4621|  0.0|\n",
      "|   3.866| -2.6383|  1.9242| 0.10645|  0.0|\n",
      "|  3.4566|  9.5228| -4.0112| -3.5944|  0.0|\n",
      "| 0.32924| -4.4552|  4.5718| -0.9888|  0.0|\n",
      "+--------+--------+--------+--------+-----+\n",
      "only showing top 5 rows\n",
      "\n",
      "+--------------------+-----+\n",
      "|            features|label|\n",
      "+--------------------+-----+\n",
      "|[3.62159991264343...|  0.0|\n",
      "|[4.54589986801147...|  0.0|\n",
      "|[3.86599993705749...|  0.0|\n",
      "|[3.45659995079040...|  0.0|\n",
      "|[0.32923999428749...|  0.0|\n",
      "+--------------------+-----+\n",
      "only showing top 5 rows\n",
      "\n"
     ]
    }
   ],
   "source": [
    "outputdf = assembler.transform(newdf)\n",
    "newdf.show(5)\n",
    "outputdf = assembler.transform(newdf)\n",
    "outputdf2=outputdf.withColumnRenamed('Class','label').select('features','label')\n",
    "outputdf2.show(5)"
   ]
  },
  {
   "cell_type": "markdown",
   "metadata": {},
   "source": [
    "# Split Data set to train and test"
   ]
  },
  {
   "cell_type": "code",
   "execution_count": null,
   "metadata": {},
   "outputs": [],
   "source": []
  },
  {
   "cell_type": "code",
   "execution_count": 47,
   "metadata": {},
   "outputs": [
    {
     "name": "stdout",
     "output_type": "stream",
     "text": [
      "+--------------------+-----+----------+\n",
      "|            features|label|prediction|\n",
      "+--------------------+-----+----------+\n",
      "|[3.62159991264343...|  0.0|       0.0|\n",
      "|[4.54589986801147...|  0.0|       0.0|\n",
      "|[3.86599993705749...|  0.0|       0.0|\n",
      "|[3.45659995079040...|  0.0|       0.0|\n",
      "|[0.32923999428749...|  0.0|       1.0|\n",
      "+--------------------+-----+----------+\n",
      "only showing top 5 rows\n",
      "\n"
     ]
    }
   ],
   "source": [
    "from pyspark.ml.classification import LinearSVC\n",
    "\n",
    "# Load training data\n",
    "\n",
    "lsvc = LinearSVC(maxIter=10, regParam=0.1)\n",
    "\n",
    "# Fit the model\n",
    "lsvcModel = lsvc.fit(outputdf2)\n",
    "\n",
    "prediction=lsvcModel.transform(outputdf2).select(\"features\", \"label\", \"prediction\")\n",
    "prediction.show(5)\n",
    "#print(\"Coefficients: \" + str(lsvcModel.coefficients))\n",
    "#print(\"Intercept: \" + str(lsvcModel.intercept))"
   ]
  },
  {
   "cell_type": "code",
   "execution_count": 56,
   "metadata": {},
   "outputs": [
    {
     "name": "stdout",
     "output_type": "stream",
     "text": [
      "+-----+\n",
      "|label|\n",
      "+-----+\n",
      "|  0.0|\n",
      "|  1.0|\n",
      "+-----+\n",
      "\n"
     ]
    }
   ],
   "source": []
  },
  {
   "cell_type": "code",
   "execution_count": 58,
   "metadata": {},
   "outputs": [
    {
     "name": "stdout",
     "output_type": "stream",
     "text": [
      "evalue= 0.9752594564697722\n"
     ]
    }
   ],
   "source": [
    "from pyspark.ml.evaluation import MulticlassClassificationEvaluator\n",
    "\n",
    "evaluator = MulticlassClassificationEvaluator()\n",
    "evaluation = evaluator.evaluate(prediction)\n",
    "print(\"evalue=\",evaluation)\n"
   ]
  },
  {
   "cell_type": "code",
   "execution_count": null,
   "metadata": {},
   "outputs": [],
   "source": []
  }
 ],
 "metadata": {
  "kernelspec": {
   "display_name": "Python 3",
   "language": "python",
   "name": "python3"
  },
  "language_info": {
   "codemirror_mode": {
    "name": "ipython",
    "version": 3
   },
   "file_extension": ".py",
   "mimetype": "text/x-python",
   "name": "python",
   "nbconvert_exporter": "python",
   "pygments_lexer": "ipython3",
   "version": "3.7.1"
  }
 },
 "nbformat": 4,
 "nbformat_minor": 2
}
