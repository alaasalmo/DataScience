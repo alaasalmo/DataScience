{
 "cells": [
  {
   "cell_type": "code",
   "execution_count": 9,
   "metadata": {},
   "outputs": [
    {
     "data": {
      "text/html": [
       "<div>\n",
       "<style scoped>\n",
       "    .dataframe tbody tr th:only-of-type {\n",
       "        vertical-align: middle;\n",
       "    }\n",
       "\n",
       "    .dataframe tbody tr th {\n",
       "        vertical-align: top;\n",
       "    }\n",
       "\n",
       "    .dataframe thead th {\n",
       "        text-align: right;\n",
       "    }\n",
       "</style>\n",
       "<table border=\"1\" class=\"dataframe\">\n",
       "  <thead>\n",
       "    <tr style=\"text-align: right;\">\n",
       "      <th></th>\n",
       "      <th>alaa</th>\n",
       "      <th>brown</th>\n",
       "      <th>dog</th>\n",
       "      <th>fox</th>\n",
       "      <th>jumped</th>\n",
       "      <th>lazy</th>\n",
       "      <th>over</th>\n",
       "      <th>quick</th>\n",
       "      <th>salmo</th>\n",
       "      <th>the</th>\n",
       "      <th>x00021</th>\n",
       "      <th>x0002e</th>\n",
       "    </tr>\n",
       "  </thead>\n",
       "  <tbody>\n",
       "    <tr>\n",
       "      <th>Doc1</th>\n",
       "      <td>0</td>\n",
       "      <td>1</td>\n",
       "      <td>0</td>\n",
       "      <td>1</td>\n",
       "      <td>0</td>\n",
       "      <td>0</td>\n",
       "      <td>0</td>\n",
       "      <td>1</td>\n",
       "      <td>0</td>\n",
       "      <td>1</td>\n",
       "      <td>0</td>\n",
       "      <td>1</td>\n",
       "    </tr>\n",
       "    <tr>\n",
       "      <th>Doc2</th>\n",
       "      <td>0</td>\n",
       "      <td>0</td>\n",
       "      <td>1</td>\n",
       "      <td>0</td>\n",
       "      <td>1</td>\n",
       "      <td>1</td>\n",
       "      <td>1</td>\n",
       "      <td>0</td>\n",
       "      <td>0</td>\n",
       "      <td>1</td>\n",
       "      <td>1</td>\n",
       "      <td>0</td>\n",
       "    </tr>\n",
       "    <tr>\n",
       "      <th>Doc3</th>\n",
       "      <td>1</td>\n",
       "      <td>0</td>\n",
       "      <td>0</td>\n",
       "      <td>0</td>\n",
       "      <td>0</td>\n",
       "      <td>0</td>\n",
       "      <td>0</td>\n",
       "      <td>0</td>\n",
       "      <td>1</td>\n",
       "      <td>0</td>\n",
       "      <td>0</td>\n",
       "      <td>0</td>\n",
       "    </tr>\n",
       "  </tbody>\n",
       "</table>\n",
       "</div>"
      ],
      "text/plain": [
       "      alaa  brown  dog  fox  jumped  lazy  over  quick  salmo  the  x00021  \\\n",
       "Doc1     0      1    0    1       0     0     0      1      0    1       0   \n",
       "Doc2     0      0    1    0       1     1     1      0      0    1       1   \n",
       "Doc3     1      0    0    0       0     0     0      0      1    0       0   \n",
       "\n",
       "      x0002e  \n",
       "Doc1       1  \n",
       "Doc2       0  \n",
       "Doc3       0  "
      ]
     },
     "execution_count": 9,
     "metadata": {},
     "output_type": "execute_result"
    }
   ],
   "source": [
    "from sklearn.feature_extraction.text import CountVectorizer\n",
    "import pandas as pd\n",
    "\n",
    "\n",
    "corpora = [\n",
    "    'The quick brown fox&#x0002E;',\n",
    "    'jumped over the lazy dog&#x00021;',\n",
    "    'Alaa Salmo'\n",
    "]\n",
    "\n",
    "cvec = CountVectorizer()\n",
    "wm = cvec.fit_transform(corpora)\n",
    "tokens = cvec.get_feature_names()\n",
    "pd.DataFrame(data=wm.toarray(), index=['Doc1', 'Doc2','Doc3'],columns=tokens)"
   ]
  },
  {
   "cell_type": "code",
   "execution_count": 45,
   "metadata": {},
   "outputs": [
    {
     "name": "stdout",
     "output_type": "stream",
     "text": [
      "  (0, 144749)\t0.4472135954999579\n",
      "  (0, 170062)\t0.4472135954999579\n",
      "  (0, 286878)\t-0.4472135954999579\n",
      "  (0, 351664)\t-0.4472135954999579\n",
      "  (0, 989160)\t-0.4472135954999579\n",
      "  (1, 144749)\t0.35355339059327373\n",
      "  (1, 170062)\t0.35355339059327373\n",
      "  (1, 286878)\t-0.35355339059327373\n",
      "  (1, 351664)\t-0.7071067811865475\n",
      "  (1, 544379)\t0.35355339059327373\n",
      "  (2, 144749)\t0.4082482904638631\n",
      "  (2, 170062)\t0.4082482904638631\n",
      "  (2, 178949)\t0.4082482904638631\n",
      "  (2, 180525)\t-0.4082482904638631\n",
      "  (2, 286878)\t-0.4082482904638631\n",
      "  (2, 948532)\t-0.4082482904638631\n",
      "  (3, 144749)\t0.4472135954999579\n",
      "  (3, 170062)\t0.4472135954999579\n",
      "  (3, 286878)\t-0.4472135954999579\n",
      "  (3, 351664)\t-0.4472135954999579\n",
      "  (3, 989160)\t-0.4472135954999579\n"
     ]
    }
   ],
   "source": [
    "from sklearn.feature_extraction.text import CountVectorizer\n",
    "from sklearn.feature_extraction.text import HashingVectorizer\n",
    "\n",
    "import pandas as pd\n",
    "import nltk\n",
    "from nltk.corpus import stopwords\n",
    "stop_list = stopwords.words(\"english\")\n",
    "\n",
    "\n",
    "h_vectorizer = HashingVectorizer()\n",
    "h_vectorizer\n",
    "\n",
    "corpus = ['This is the first document.','This document is the second document.','And this is the third one.','Is this the first document?']\n",
    "\n",
    "X = h_vectorizer.fit_transform(corpus)\n",
    "#tokens = h_vectorizer.get_feature_names()\n",
    "#names =  X.get_feature_names()\n",
    "print(X)"
   ]
  },
  {
   "cell_type": "code",
   "execution_count": 51,
   "metadata": {},
   "outputs": [
    {
     "name": "stdout",
     "output_type": "stream",
     "text": [
      "vocabulary:  {'superb': 5, 'am': 0, 'in': 2, 'love': 3, 'this': 6, 'phone': 4, 'hate': 1}\n",
      "  (0, 0)\t1\n",
      "  (0, 2)\t2\n",
      "  (0, 3)\t1\n",
      "  (0, 4)\t1\n",
      "  (0, 5)\t1\n",
      "  (0, 6)\t1\n",
      "  (1, 1)\t1\n",
      "  (1, 4)\t1\n",
      "  (1, 6)\t1\n",
      "shape:  (2, 7)\n",
      "vectors:  [[1 0 2 1 1 1 1]\n",
      " [0 1 0 0 1 0 1]]\n"
     ]
    }
   ],
   "source": [
    "from sklearn.feature_extraction.text import CountVectorizer\n",
    "# list of documents\n",
    "docs = ['SUPERB, I AM IN LOVE IN THIS PHONE', 'I hate this phone']\n",
    "# create the transform\n",
    "vectorizer = CountVectorizer()\n",
    "# tokenize and build vocab\n",
    "vectorizer.fit(docs)\n",
    "print('vocabulary: ', vectorizer.vocabulary_)\n",
    "# encode document\n",
    "vector = vectorizer.transform(docs)\n",
    "print(vector)\n",
    "# summarize encoded vector\n",
    "print('shape: ', vector.shape)\n",
    "print('vectors: ', vector.toarray())"
   ]
  },
  {
   "cell_type": "code",
   "execution_count": null,
   "metadata": {},
   "outputs": [],
   "source": []
  },
  {
   "cell_type": "code",
   "execution_count": null,
   "metadata": {},
   "outputs": [],
   "source": []
  }
 ],
 "metadata": {
  "kernelspec": {
   "display_name": "Python 3",
   "language": "python",
   "name": "python3"
  },
  "language_info": {
   "codemirror_mode": {
    "name": "ipython",
    "version": 3
   },
   "file_extension": ".py",
   "mimetype": "text/x-python",
   "name": "python",
   "nbconvert_exporter": "python",
   "pygments_lexer": "ipython3",
   "version": "3.7.1"
  }
 },
 "nbformat": 4,
 "nbformat_minor": 2
}
