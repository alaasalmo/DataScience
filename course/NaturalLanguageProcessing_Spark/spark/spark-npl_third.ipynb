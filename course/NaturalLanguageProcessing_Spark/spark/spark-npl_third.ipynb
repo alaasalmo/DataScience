{
 "cells": [
  {
   "cell_type": "code",
   "execution_count": 1,
   "metadata": {},
   "outputs": [],
   "source": [
    "from sparknlp.base import *\n",
    "from sparknlp.annotator import *\n",
    "from sparknlp.embeddings import *\n",
    "from sparknlp.pretrained import PretrainedPipeline\n",
    "import sparknlp\n"
   ]
  },
  {
   "cell_type": "code",
   "execution_count": 2,
   "metadata": {},
   "outputs": [
    {
     "name": "stdout",
     "output_type": "stream",
     "text": [
      "explain_document_dl download started this may take some time.\n",
      "Approx size to download 168.4 MB\n",
      "[OK!]\n"
     ]
    }
   ],
   "source": [
    "spark = sparknlp.start()\n",
    "\n",
    "# Download a pre-trained pipeline \n",
    "pipeline = PretrainedPipeline('explain_document_dl', lang='en')\n",
    "\n",
    "# Your testing dataset\n",
    "text = \"\"\"\n",
    "The Mona Lisa is a 16th century oil painting created by Leonardo. \n",
    "It's held at the Louvre in Paris.\n",
    "\"\"\"\n",
    "\n",
    "# Annotate your testing dataset\n",
    "result = pipeline.annotate(text)"
   ]
  },
  {
   "cell_type": "code",
   "execution_count": 3,
   "metadata": {},
   "outputs": [
    {
     "data": {
      "text/plain": [
       "['entities',\n",
       " 'stem',\n",
       " 'checked',\n",
       " 'lemma',\n",
       " 'document',\n",
       " 'pos',\n",
       " 'token',\n",
       " 'ner',\n",
       " 'embeddings',\n",
       " 'sentence']"
      ]
     },
     "execution_count": 3,
     "metadata": {},
     "output_type": "execute_result"
    }
   ],
   "source": [
    "# What's in the pipeline\n",
    "list(result.keys())"
   ]
  },
  {
   "cell_type": "code",
   "execution_count": 4,
   "metadata": {},
   "outputs": [
    {
     "data": {
      "text/plain": [
       "['Mona Lisa', 'Leonardo', \"It's\", 'Louvre', 'Paris']"
      ]
     },
     "execution_count": 4,
     "metadata": {},
     "output_type": "execute_result"
    }
   ],
   "source": [
    "# Check the results\n",
    "result['entities']\n"
   ]
  },
  {
   "cell_type": "code",
   "execution_count": null,
   "metadata": {},
   "outputs": [],
   "source": []
  }
 ],
 "metadata": {
  "kernelspec": {
   "display_name": "Python 3",
   "language": "python",
   "name": "python3"
  },
  "language_info": {
   "codemirror_mode": {
    "name": "ipython",
    "version": 3
   },
   "file_extension": ".py",
   "mimetype": "text/x-python",
   "name": "python",
   "nbconvert_exporter": "python",
   "pygments_lexer": "ipython3",
   "version": "3.7.1"
  }
 },
 "nbformat": 4,
 "nbformat_minor": 2
}
