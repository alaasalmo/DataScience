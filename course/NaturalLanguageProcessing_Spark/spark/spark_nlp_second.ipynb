{
 "cells": [
  {
   "cell_type": "code",
   "execution_count": 1,
   "metadata": {},
   "outputs": [],
   "source": [
    "import sparknlp\n",
    "from sparknlp.annotator import *\n",
    "from sparknlp.base import *\n",
    "from pyspark.sql.types import StringType"
   ]
  },
  {
   "cell_type": "code",
   "execution_count": 2,
   "metadata": {},
   "outputs": [
    {
     "name": "stdout",
     "output_type": "stream",
     "text": [
      "Spark NLP version:  2.4.1\n",
      "Apache Spark version:  2.4.4\n"
     ]
    }
   ],
   "source": [
    "spark = sparknlp.start()\n",
    "\n",
    "print(\"Spark NLP version: \", sparknlp.version())\n",
    "print(\"Apache Spark version: \", spark.version)"
   ]
  },
  {
   "cell_type": "code",
   "execution_count": 5,
   "metadata": {},
   "outputs": [
    {
     "name": "stdout",
     "output_type": "stream",
     "text": [
      "+---------------------------------------------------------------------------------------+\n",
      "|text                                                                                   |\n",
      "+---------------------------------------------------------------------------------------+\n",
      "|Cloud computing is benefiting major manufacturing companies compute Listing Listed List|\n",
      "|Big data cloud computing cyber security machine learning                               |\n",
      "+---------------------------------------------------------------------------------------+\n",
      "\n"
     ]
    }
   ],
   "source": [
    "dfTest = spark.createDataFrame([\n",
    "    \"Cloud computing is benefiting major manufacturing companies compute Listing Listed List\",\n",
    "    \"Big data cloud computing cyber security machine learning\"\n",
    "], StringType()).toDF(\"text\")\n",
    "dfTest.show(truncate=False)"
   ]
  },
  {
   "cell_type": "code",
   "execution_count": 6,
   "metadata": {},
   "outputs": [],
   "source": [
    "document_assembler = DocumentAssembler().setInputCol(\"text\")\n",
    "    \n",
    "tokenizer = Tokenizer() .setInputCols([\"document\"]).setOutputCol(\"token\")\n",
    "\n",
    "bigrams = NGramGenerator() \\\n",
    "            .setInputCols([\"token\"]) \\\n",
    "            .setOutputCol(\"bigrams\") \\\n",
    "            .setN(2)\n",
    "\n",
    "trigrams_cum = NGramGenerator() \\\n",
    "            .setInputCols([\"token\"]) \\\n",
    "            .setOutputCol(\"trigrams\") \\\n",
    "            .setN(3)            \n",
    "\n",
    "pipeline = Pipeline(stages=[\n",
    "    document_assembler, \n",
    "    tokenizer, \n",
    "    bigrams,\n",
    "    trigrams_cum\n",
    "])"
   ]
  },
  {
   "cell_type": "code",
   "execution_count": 7,
   "metadata": {},
   "outputs": [],
   "source": [
    "model = pipeline.fit(dfTest)\n",
    "prediction = model.transform(dfTest)"
   ]
  },
  {
   "cell_type": "code",
   "execution_count": 8,
   "metadata": {},
   "outputs": [
    {
     "name": "stdout",
     "output_type": "stream",
     "text": [
      "+------------------------------------------------------------+\n",
      "|                                                      result|\n",
      "+------------------------------------------------------------+\n",
      "|[Cloud computing, computing is, is benefiting, benefiting...|\n",
      "|[Big data, data cloud, cloud computing, computing cyber, ...|\n",
      "+------------------------------------------------------------+\n",
      "\n"
     ]
    }
   ],
   "source": [
    "prediction.select(\"bigrams.result\").show(2, truncate=60)"
   ]
  },
  {
   "cell_type": "code",
   "execution_count": 9,
   "metadata": {},
   "outputs": [
    {
     "name": "stdout",
     "output_type": "stream",
     "text": [
      "+------------------------------------------------------------+\n",
      "|                                                      result|\n",
      "+------------------------------------------------------------+\n",
      "|[Cloud computing is, computing is benefiting, is benefiti...|\n",
      "|[Big data cloud, data cloud computing, cloud computing cy...|\n",
      "+------------------------------------------------------------+\n",
      "\n"
     ]
    }
   ],
   "source": [
    "prediction.select(\"trigrams.result\").show(2, truncate=60)"
   ]
  },
  {
   "cell_type": "code",
   "execution_count": 10,
   "metadata": {},
   "outputs": [
    {
     "data": {
      "text/plain": [
       "{'document': ['Cloud computing is benefiting major manufacturing companies'],\n",
       " 'token': ['Cloud',\n",
       "  'computing',\n",
       "  'is',\n",
       "  'benefiting',\n",
       "  'major',\n",
       "  'manufacturing',\n",
       "  'companies'],\n",
       " 'bigrams': ['Cloud computing',\n",
       "  'computing is',\n",
       "  'is benefiting',\n",
       "  'benefiting major',\n",
       "  'major manufacturing',\n",
       "  'manufacturing companies'],\n",
       " 'trigrams': ['Cloud computing is',\n",
       "  'computing is benefiting',\n",
       "  'is benefiting major',\n",
       "  'benefiting major manufacturing',\n",
       "  'major manufacturing companies']}"
      ]
     },
     "execution_count": 10,
     "metadata": {},
     "output_type": "execute_result"
    }
   ],
   "source": [
    "from sparknlp.base import LightPipeline\n",
    "text = 'Cloud computing is benefiting major manufacturing companies'\n",
    "result = LightPipeline(model).annotate(text)\n",
    "result"
   ]
  },
  {
   "cell_type": "code",
   "execution_count": 13,
   "metadata": {},
   "outputs": [
    {
     "data": {
      "text/plain": [
       "['document', 'token', 'bigrams', 'trigrams']"
      ]
     },
     "execution_count": 13,
     "metadata": {},
     "output_type": "execute_result"
    }
   ],
   "source": [
    "list(result.keys())"
   ]
  },
  {
   "cell_type": "code",
   "execution_count": 14,
   "metadata": {},
   "outputs": [
    {
     "data": {
      "text/plain": [
       "['Cloud computing',\n",
       " 'computing is',\n",
       " 'is benefiting',\n",
       " 'benefiting major',\n",
       " 'major manufacturing',\n",
       " 'manufacturing companies']"
      ]
     },
     "execution_count": 14,
     "metadata": {},
     "output_type": "execute_result"
    }
   ],
   "source": [
    "result['bigrams']"
   ]
  },
  {
   "cell_type": "code",
   "execution_count": 15,
   "metadata": {},
   "outputs": [
    {
     "data": {
      "text/plain": [
       "['Cloud computing is',\n",
       " 'computing is benefiting',\n",
       " 'is benefiting major',\n",
       " 'benefiting major manufacturing',\n",
       " 'major manufacturing companies']"
      ]
     },
     "execution_count": 15,
     "metadata": {},
     "output_type": "execute_result"
    }
   ],
   "source": [
    "result['trigrams']"
   ]
  },
  {
   "cell_type": "code",
   "execution_count": null,
   "metadata": {},
   "outputs": [],
   "source": []
  }
 ],
 "metadata": {
  "kernelspec": {
   "display_name": "Python 3",
   "language": "python",
   "name": "python3"
  },
  "language_info": {
   "codemirror_mode": {
    "name": "ipython",
    "version": 3
   },
   "file_extension": ".py",
   "mimetype": "text/x-python",
   "name": "python",
   "nbconvert_exporter": "python",
   "pygments_lexer": "ipython3",
   "version": "3.7.1"
  }
 },
 "nbformat": 4,
 "nbformat_minor": 2
}
