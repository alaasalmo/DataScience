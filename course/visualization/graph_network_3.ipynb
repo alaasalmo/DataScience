{
 "cells": [
  {
   "cell_type": "markdown",
   "metadata": {},
   "source": [
    "# Add Attributes to the Node"
   ]
  },
  {
   "cell_type": "code",
   "execution_count": null,
   "metadata": {},
   "outputs": [],
   "source": [
    "import networkx as nx\n",
    "# The following line initializes two empty directed graph objects\n",
    "G=nx.DiGraph()"
   ]
  },
  {
   "cell_type": "code",
   "execution_count": 47,
   "metadata": {},
   "outputs": [],
   "source": [
    "G.add_node('abc', dob=1185, pob='usa', dayob='monday')\n",
    "G.add_node('def', dob=1185, pob='usa', dayob='sunday')\n"
   ]
  },
  {
   "cell_type": "code",
   "execution_count": 54,
   "metadata": {},
   "outputs": [
    {
     "name": "stdout",
     "output_type": "stream",
     "text": [
      "abc 1185 usa monday\n",
      "def 1185 usa monday\n"
     ]
    }
   ],
   "source": [
    "for n,d in G.nodes() (data=True):\n",
    "    print(n,d['dob'],d['pob'],d['dayob'])"
   ]
  },
  {
   "cell_type": "markdown",
   "metadata": {},
   "source": [
    "# Update the attributes"
   ]
  },
  {
   "cell_type": "code",
   "execution_count": 56,
   "metadata": {},
   "outputs": [],
   "source": [
    "for n,d in G.nodes() (data=True):\n",
    "    d['pob']=d['pob'] + ' xx' \n"
   ]
  },
  {
   "cell_type": "code",
   "execution_count": 57,
   "metadata": {},
   "outputs": [
    {
     "name": "stdout",
     "output_type": "stream",
     "text": [
      "abc 1185 usa xx monday\n",
      "def 1185 usa xx monday\n"
     ]
    }
   ],
   "source": [
    "for n,d in G.nodes() (data=True):\n",
    "    print(n,d['dob'],d['pob'],d['dayob'])\n"
   ]
  },
  {
   "cell_type": "markdown",
   "metadata": {},
   "source": [
    "# Add Objects to the Node"
   ]
  },
  {
   "cell_type": "code",
   "execution_count": 33,
   "metadata": {},
   "outputs": [
    {
     "name": "stdout",
     "output_type": "stream",
     "text": [
      "John\n",
      "[1, 2, 3]\n",
      "3\n"
     ]
    }
   ],
   "source": [
    "import networkx as nx\n",
    "G1=nx.DiGraph()\n",
    "class Person:\n",
    "  def __init__(self, name, age):\n",
    "    self.name = name\n",
    "    self.age = age\n",
    "\n",
    "p1 = Person(\"John\", 36)\n",
    "p2 = Person(\"Smith\", 46)\n",
    "p3 = Person(\"Brown\", 30)\n",
    "\n",
    "G1.add_node(1,data=p1)\n",
    "G1.add_node(2,data=p2)\n",
    "G1.add_node(3,data=p3)\n",
    "print(G1.nodes())\n",
    "print(G1.number_of_nodes())"
   ]
  },
  {
   "cell_type": "code",
   "execution_count": 39,
   "metadata": {},
   "outputs": [
    {
     "name": "stdout",
     "output_type": "stream",
     "text": [
      "John   36\n",
      "Smith   46\n",
      "Brown   30\n"
     ]
    }
   ],
   "source": [
    "for n,d in G1.nodes(data=True):\n",
    "    print(d['data'].name, ' ',d['data'].age)"
   ]
  },
  {
   "cell_type": "markdown",
   "metadata": {},
   "source": [
    "# Remove Node"
   ]
  },
  {
   "cell_type": "code",
   "execution_count": 41,
   "metadata": {},
   "outputs": [
    {
     "name": "stdout",
     "output_type": "stream",
     "text": [
      "Smith   46\n",
      "Brown   30\n"
     ]
    }
   ],
   "source": [
    "G1.remove_node(1)\n",
    "\n",
    "for n,d in G1.nodes(data=True):\n",
    "    print(d['data'].name, ' ',d['data'].age)"
   ]
  },
  {
   "cell_type": "markdown",
   "metadata": {},
   "source": [
    "# Update Node"
   ]
  },
  {
   "cell_type": "code",
   "execution_count": 42,
   "metadata": {},
   "outputs": [],
   "source": [
    "for n,d in G1.nodes(data=True):\n",
    "    d['data'].name ='XX'\n",
    "    d['data'].age = 0"
   ]
  },
  {
   "cell_type": "code",
   "execution_count": 43,
   "metadata": {},
   "outputs": [
    {
     "name": "stdout",
     "output_type": "stream",
     "text": [
      "XX   0\n",
      "XX   0\n"
     ]
    }
   ],
   "source": [
    "for n,d in G1.nodes(data=True):\n",
    "    print(d['data'].name, ' ',d['data'].age)"
   ]
  },
  {
   "cell_type": "code",
   "execution_count": null,
   "metadata": {},
   "outputs": [],
   "source": []
  }
 ],
 "metadata": {
  "kernelspec": {
   "display_name": "Python 3",
   "language": "python",
   "name": "python3"
  },
  "language_info": {
   "codemirror_mode": {
    "name": "ipython",
    "version": 3
   },
   "file_extension": ".py",
   "mimetype": "text/x-python",
   "name": "python",
   "nbconvert_exporter": "python",
   "pygments_lexer": "ipython3",
   "version": "3.7.1"
  }
 },
 "nbformat": 4,
 "nbformat_minor": 2
}
