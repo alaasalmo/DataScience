{
 "cells": [
  {
   "cell_type": "code",
   "execution_count": 1,
   "metadata": {},
   "outputs": [
    {
     "data": {
      "application/vnd.jupyter.widget-view+json": {
       "model_id": "9d480804910e454bbcd8f0b382fac769",
       "version_major": 2,
       "version_minor": 0
      },
      "text/plain": [
       "Map(center=[43.8488113, -79.5679253], close_popup_on_click=False, controls=(ZoomControl(options=['position', '…"
      ]
     },
     "metadata": {},
     "output_type": "display_data"
    }
   ],
   "source": [
    "from ipyleaflet import Map, Marker, Popup\n",
    "\n",
    "center = (43.8488113,-79.5679253)\n",
    "\n",
    "m = Map(center=center, zoom=12, close_popup_on_click=False)\n",
    "\n",
    "marker = Marker(location=(43.8488113,-79.5679253))\n",
    "m.add_layer(marker)\n",
    "\n",
    "m"
   ]
  },
  {
   "cell_type": "code",
   "execution_count": 2,
   "metadata": {},
   "outputs": [
    {
     "data": {
      "application/vnd.jupyter.widget-view+json": {
       "model_id": "24f8d4a956ff494489c03590dc1ffb5f",
       "version_major": 2,
       "version_minor": 0
      },
      "text/plain": [
       "Map(center=[52.204793, 360.121558], controls=(ZoomControl(options=['position', 'zoom_in_text', 'zoom_in_title'…"
      ]
     },
     "metadata": {},
     "output_type": "display_data"
    }
   ],
   "source": [
    "from ipyleaflet import Map, Marker\n",
    "center = (52.204793, 360.121558)\n",
    "m = Map(center=center, zoom=15)\n",
    "marker = Marker(location=center, draggable=True)\n",
    "m.add_layer(marker);\n",
    "display(m)\n"
   ]
  },
  {
   "cell_type": "code",
   "execution_count": 3,
   "metadata": {},
   "outputs": [
    {
     "data": {
      "application/vnd.jupyter.widget-view+json": {
       "model_id": "5a23bb97746f40a195ffa93f2c47a734",
       "version_major": 2,
       "version_minor": 0
      },
      "text/plain": [
       "Map(center=[43.6512, -79.382], controls=(ZoomControl(options=['position', 'zoom_in_text', 'zoom_in_title', 'zo…"
      ]
     },
     "metadata": {},
     "output_type": "display_data"
    }
   ],
   "source": [
    "from ipyleaflet import AwesomeIcon, Marker, Map\n",
    "from ipywidgets import HTML\n",
    "\n",
    "center = (43.6512, -79.3820)\n",
    "\n",
    "icon1 = AwesomeIcon(\n",
    "name='bus',\n",
    "marker_color='red',\n",
    "icon_color='black',\n",
    "spin=False\n",
    ")\n",
    "marker1 = Marker(icon=icon1, location=(center[0], center[1] - 0.001),draggable=False)\n",
    "icon2 = AwesomeIcon(\n",
    "name='gear',\n",
    "marker_color='green',\n",
    "icon_color='darkgreen',\n",
    "spin=True\n",
    ")\n",
    "marker2 = Marker(icon=icon2, location=(center[0], center[1] + 0.001),draggable=False)\n",
    "\n",
    "icon3 = AwesomeIcon(\n",
    "name='bank',\n",
    "marker_color='blue',\n",
    "icon_color='darkgreen',\n",
    "spin=False\n",
    ")\n",
    "marker3 = Marker(icon=icon3, location=(center[0], center[1] - 0.0001),draggable=False)\n",
    "\n",
    "\n",
    "message1 = HTML()\n",
    "message1.value = \"TD bank\"\n",
    "marker3.popup = message1\n",
    "\n",
    "icon4 = AwesomeIcon(\n",
    "name='bank',\n",
    "marker_color='blue',\n",
    "icon_color='black',\n",
    "spin=False\n",
    ")\n",
    "marker4 = Marker(icon=icon4, location=(center[0]- 0.0002, center[1] - 0.0001),draggable=False)\n",
    "\n",
    "\n",
    "message2 = HTML()\n",
    "message2.value = \"RBC bank\"\n",
    "marker4.popup = message2\n",
    "\n",
    "\n",
    "\n",
    "m = Map(center=center, zoom=21)\n",
    "m.add_layer(marker1)\n",
    "m.add_layer(marker2)\n",
    "m.add_layer(marker3)\n",
    "m.add_layer(marker4)\n",
    "#m.add_layer(popup)\n",
    "\n",
    "m"
   ]
  },
  {
   "cell_type": "code",
   "execution_count": null,
   "metadata": {},
   "outputs": [],
   "source": []
  }
 ],
 "metadata": {
  "kernelspec": {
   "display_name": "Python 3",
   "language": "python",
   "name": "python3"
  },
  "language_info": {
   "codemirror_mode": {
    "name": "ipython",
    "version": 3
   },
   "file_extension": ".py",
   "mimetype": "text/x-python",
   "name": "python",
   "nbconvert_exporter": "python",
   "pygments_lexer": "ipython3",
   "version": "3.7.1"
  }
 },
 "nbformat": 4,
 "nbformat_minor": 2
}
